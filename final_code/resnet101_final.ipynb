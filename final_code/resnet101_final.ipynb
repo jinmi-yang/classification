{
 "cells": [
  {
   "cell_type": "code",
   "execution_count": 1,
   "id": "d9cd0db7",
   "metadata": {},
   "outputs": [],
   "source": [
    "import pandas as pd\n",
    "import numpy as np\n",
    "import seaborn as sns\n",
    "import matplotlib.pyplot as plt\n",
    "\n",
    "import torch\n",
    "from torchvision import datasets, models, transforms\n",
    "import torch.nn as nn\n",
    "from torch.nn import functional as F\n",
    "import torch.optim as optim\n",
    "import torchvision\n",
    "\n",
    "from PIL import Image\n",
    "import os"
   ]
  },
  {
   "cell_type": "code",
   "execution_count": 2,
   "id": "710fe47c",
   "metadata": {},
   "outputs": [],
   "source": [
    "os.environ['CUDA_LAUNCH_BLOCKING'] = \"1\"\n",
    "os.environ[\"CUDA_VISIBLE_DEVICES\"] = \"0\""
   ]
  },
  {
   "cell_type": "code",
   "execution_count": 13,
   "id": "500dfaa5",
   "metadata": {},
   "outputs": [],
   "source": [
    "# path\n",
    "input_path = \"/home/piai/바탕화면/hanja_crop_50/new50/output_crop/\""
   ]
  },
  {
   "cell_type": "code",
   "execution_count": 14,
   "id": "fe81b799",
   "metadata": {},
   "outputs": [],
   "source": [
    "normalize = transforms.Normalize(mean=[0.485, 0.456, 0.406],\n",
    "                                 std=[0.229, 0.224, 0.225])\n",
    "\n",
    "data_transforms = {\n",
    "    'train':\n",
    "    transforms.Compose([\n",
    "        transforms.Resize((224,224)),\n",
    "        transforms.ToTensor(),\n",
    "        normalize\n",
    "    ]),\n",
    "    'validation':\n",
    "    transforms.Compose([\n",
    "        transforms.Resize((224,224)),\n",
    "        transforms.ToTensor(),\n",
    "        normalize\n",
    "    ]),\n",
    "}\n",
    "\n",
    "image_datasets = {\n",
    "    'train': \n",
    "    datasets.ImageFolder(input_path + 'train', data_transforms['train']),\n",
    "    'validation': \n",
    "    datasets.ImageFolder(input_path + 'validation', data_transforms['validation'])\n",
    "}\n",
    "\n",
    "dataloaders = {\n",
    "    'train':\n",
    "    torch.utils.data.DataLoader(image_datasets['train'],\n",
    "                                batch_size=32,\n",
    "                                shuffle=True,\n",
    "                                num_workers=0),  # for Kaggle\n",
    "    'validation':\n",
    "    torch.utils.data.DataLoader(image_datasets['validation'],\n",
    "                                batch_size=32,\n",
    "                                shuffle=False,\n",
    "                                num_workers=0)  # for Kaggle\n",
    "}"
   ]
  },
  {
   "cell_type": "code",
   "execution_count": 15,
   "id": "18fdc9f1",
   "metadata": {},
   "outputs": [
    {
     "name": "stdout",
     "output_type": "stream",
     "text": [
      "tensor([3218, 2263, 2199,  559, 1333, 1094, 2767, 1756, 3695, 3366, 2582, 3956,\n",
      "        4004, 2703, 3583, 3124, 2462, 1181, 1211,  529, 4508, 4740,  979, 3630,\n",
      "        2799, 3890,  585, 3092,  707, 2816, 2616, 2785])\n"
     ]
    }
   ],
   "source": [
    "dataiter = iter(dataloaders['train'])\n",
    "images, labels = dataiter.next()\n",
    "print(labels)"
   ]
  },
  {
   "cell_type": "code",
   "execution_count": 18,
   "id": "9d29dff9",
   "metadata": {},
   "outputs": [],
   "source": [
    "classes = image_datasets['train'].classes\n",
    "#classes"
   ]
  },
  {
   "cell_type": "code",
   "execution_count": 20,
   "id": "d32a8306",
   "metadata": {},
   "outputs": [
    {
     "data": {
      "text/plain": [
       "device(type='cuda', index=0)"
      ]
     },
     "execution_count": 20,
     "metadata": {},
     "output_type": "execute_result"
    }
   ],
   "source": [
    "device = torch.device(\"cuda:0\" if torch.cuda.is_available() else \"cpu\")\n",
    "device"
   ]
  },
  {
   "cell_type": "code",
   "execution_count": 21,
   "id": "d73b2974",
   "metadata": {},
   "outputs": [],
   "source": [
    "model = models.resnet101(pretrained=True).to(device)\n",
    "    \n",
    "for param in model.parameters():\n",
    "    param.requires_grad = False   \n",
    "    \n",
    "model.fc = nn.Sequential(\n",
    "    nn.Linear(2048, 128),\n",
    "    nn.ReLU(inplace=True),\n",
    "    nn.Linear(128, 4893),\n",
    "    #nn.LogSoftmax(dim=1) ############ 추가\n",
    "    #nn.Linear(128,1422)에서 1422는 class 개수로 맞추기\n",
    ").to(device)"
   ]
  },
  {
   "cell_type": "code",
   "execution_count": 22,
   "id": "1aece732",
   "metadata": {},
   "outputs": [],
   "source": [
    "criterion = nn.CrossEntropyLoss()\n",
    "optimizer = optim.Adam(model.fc.parameters())"
   ]
  },
  {
   "cell_type": "code",
   "execution_count": 23,
   "id": "d8d7f06d",
   "metadata": {},
   "outputs": [],
   "source": [
    "import time\n",
    "import datetime"
   ]
  },
  {
   "cell_type": "code",
   "execution_count": 24,
   "id": "9377a689",
   "metadata": {},
   "outputs": [],
   "source": [
    "def train_model(model, criterion, optimizer, num_epochs=3):\n",
    "    for epoch in range(num_epochs):\n",
    "        start = time.time()  # 시작 시간 저장\n",
    "        print('Epoch {}/{}'.format(epoch+1, num_epochs))\n",
    "        print('-' * 10)\n",
    "\n",
    "        for phase in ['train', 'validation']:\n",
    "            if phase == 'train':\n",
    "                model.train()\n",
    "            else:\n",
    "                model.eval()\n",
    "\n",
    "            running_loss = 0.0\n",
    "            running_corrects = 0\n",
    "\n",
    "            for inputs, labels in dataloaders[phase]:\n",
    "                inputs = inputs.to(device)\n",
    "                labels = labels.to(device)\n",
    "\n",
    "                outputs = model(inputs)\n",
    "                #return inputs, outputs, labels\n",
    "                loss = criterion(outputs, labels)\n",
    "                \n",
    "                if phase == 'train':\n",
    "                    optimizer.zero_grad()\n",
    "                    loss.backward()\n",
    "                    optimizer.step()\n",
    "\n",
    "                _, preds = torch.max(outputs, 1)\n",
    "                running_loss += loss.item() * inputs.size(0)\n",
    "                running_corrects += torch.sum(preds == labels.data)\n",
    "\n",
    "            epoch_loss = running_loss / len(image_datasets[phase])\n",
    "            epoch_acc = running_corrects.double() / len(image_datasets[phase])\n",
    "\n",
    "            print('{} loss: {:.4f}, acc: {:.4f}'.format(phase,\n",
    "                                                        epoch_loss,\n",
    "                                                        epoch_acc))\n",
    "            \n",
    "        torch.save(model.state_dict(), '/home/piai/바탕화면/hanja_crop_50/new50/weights/weights_{}.h5'.format(epoch))\n",
    "        sec = time.time()-start\n",
    "        times = str(datetime.timedelta(seconds=sec)).split(\".\")\n",
    "        times = times[0]\n",
    "        print(times)\n",
    "        print()\n",
    "    return model"
   ]
  },
  {
   "cell_type": "code",
   "execution_count": null,
   "id": "5a7186f8",
   "metadata": {
    "scrolled": true
   },
   "outputs": [
    {
     "name": "stdout",
     "output_type": "stream",
     "text": [
      "Epoch 1/30\n",
      "----------\n",
      "train loss: 8.5099, acc: 0.0001\n",
      "validation loss: 8.4987, acc: 0.0002\n",
      "0:17:18\n",
      "\n",
      "Epoch 2/30\n",
      "----------\n",
      "train loss: 8.5035, acc: 0.0001\n",
      "validation loss: 8.4968, acc: 0.0002\n",
      "0:17:15\n",
      "\n",
      "Epoch 3/30\n",
      "----------\n",
      "train loss: 8.5023, acc: 0.0001\n",
      "validation loss: 8.4961, acc: 0.0002\n",
      "0:17:12\n",
      "\n",
      "Epoch 4/30\n",
      "----------\n",
      "train loss: 8.5018, acc: 0.0001\n",
      "validation loss: 8.4958, acc: 0.0002\n",
      "0:17:13\n",
      "\n",
      "Epoch 5/30\n",
      "----------\n",
      "train loss: 8.5016, acc: 0.0001\n",
      "validation loss: 8.4957, acc: 0.0002\n",
      "0:17:13\n",
      "\n",
      "Epoch 6/30\n",
      "----------\n",
      "train loss: 8.5015, acc: 0.0001\n",
      "validation loss: 8.4957, acc: 0.0002\n",
      "0:17:12\n",
      "\n",
      "Epoch 7/30\n",
      "----------\n",
      "train loss: 8.5015, acc: 0.0001\n",
      "validation loss: 8.4957, acc: 0.0002\n",
      "0:17:33\n",
      "\n",
      "Epoch 8/30\n",
      "----------\n",
      "train loss: 8.5015, acc: 0.0001\n",
      "validation loss: 8.4957, acc: 0.0002\n",
      "0:17:37\n",
      "\n",
      "Epoch 9/30\n",
      "----------\n",
      "train loss: 8.5015, acc: 0.0001\n",
      "validation loss: 8.4956, acc: 0.0002\n",
      "0:18:05\n",
      "\n",
      "Epoch 10/30\n",
      "----------\n",
      "train loss: 8.5015, acc: 0.0001\n",
      "validation loss: 8.4956, acc: 0.0002\n",
      "0:17:31\n",
      "\n",
      "Epoch 11/30\n",
      "----------\n",
      "train loss: 8.5015, acc: 0.0001\n",
      "validation loss: 8.4956, acc: 0.0002\n",
      "0:18:00\n",
      "\n",
      "Epoch 12/30\n",
      "----------\n",
      "train loss: 8.5015, acc: 0.0001\n",
      "validation loss: 8.4956, acc: 0.0002\n",
      "0:17:43\n",
      "\n",
      "Epoch 13/30\n",
      "----------\n"
     ]
    }
   ],
   "source": [
    "model_trained = train_model(model, criterion, optimizer, num_epochs=30)"
   ]
  },
  {
   "cell_type": "code",
   "execution_count": null,
   "id": "4e22abf4",
   "metadata": {},
   "outputs": [],
   "source": []
  }
 ],
 "metadata": {
  "kernelspec": {
   "display_name": "jinmi",
   "language": "python",
   "name": "jinmi"
  },
  "language_info": {
   "codemirror_mode": {
    "name": "ipython",
    "version": 3
   },
   "file_extension": ".py",
   "mimetype": "text/x-python",
   "name": "python",
   "nbconvert_exporter": "python",
   "pygments_lexer": "ipython3",
   "version": "3.9.2"
  }
 },
 "nbformat": 4,
 "nbformat_minor": 5
}
